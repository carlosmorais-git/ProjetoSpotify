{
 "cells": [
  {
   "cell_type": "markdown",
   "metadata": {},
   "source": [
    "### Instalação\n",
    "\n",
    "Caso não tenha o Nodejs entre em https://nodejs.org/pt/download e instale"
   ]
  },
  {
   "cell_type": "markdown",
   "metadata": {},
   "source": [
    "Vite é um servidor de desenvolvimento local escrito por Evan You, o criador do Vue.js, e usado por padrão pelo Vue e para modelos de projeto React. Possui suporte para TypeScript e JSX. https://vite.dev/"
   ]
  },
  {
   "cell_type": "code",
   "execution_count": null,
   "metadata": {
    "vscode": {
     "languageId": "powershell"
    }
   },
   "outputs": [],
   "source": [
    "comando 1 - npm create vite@latest .\n",
    "comando 2 - y\n",
    "comando 3 - Ignore ou Remove\n",
    "comando 4 - nome projeto\n",
    "comando 5 - framework\n",
    "comando 6 - linguagem\n",
    "comando 7 - npm i ou npm install\n",
    "comando 8 - npm run dev\n",
    "\n",
    "Local:   http://localhost:5173/\n",
    "➜  Network: use --host to expose\n",
    "➜  press h + enter to show help"
   ]
  },
  {
   "cell_type": "markdown",
   "metadata": {},
   "source": [
    "Para iniciar um projeto do zero, é necessário instalar os pacotes do Node.js, de forma semelhante ao uso de um ambiente virtual no Python. Isso porque algumas dependências precisam ser gerenciadas dentro do projeto."
   ]
  },
  {
   "cell_type": "code",
   "execution_count": null,
   "metadata": {
    "vscode": {
     "languageId": "powershell"
    }
   },
   "outputs": [],
   "source": [
    "npm node packet manager"
   ]
  },
  {
   "cell_type": "markdown",
   "metadata": {},
   "source": [
    "### React\n",
    "\n",
    "- Todo componente em react é uma funcao com retorno em tags <></>(fragmento) html"
   ]
  },
  {
   "cell_type": "markdown",
   "metadata": {},
   "source": [
    "Extensão do react -  ES7+ React/Redux/React-Native snippets"
   ]
  },
  {
   "cell_type": "code",
   "execution_count": null,
   "metadata": {
    "vscode": {
     "languageId": "javascript"
    }
   },
   "outputs": [],
   "source": [
    "// Use esse comando para criar um componente rapido => rafce\n",
    "\n",
    "\n",
    "import React from 'react'\n",
    "\n",
    "const App = () => {\n",
    "  return (\n",
    "    <div>App</div>\n",
    "  )\n",
    "}\n",
    "\n",
    "export default App"
   ]
  },
  {
   "cell_type": "markdown",
   "metadata": {},
   "source": [
    "Nomeação dos componentes - PascalCase\n"
   ]
  },
  {
   "cell_type": "code",
   "execution_count": null,
   "metadata": {
    "vscode": {
     "languageId": "javascript"
    }
   },
   "outputs": [],
   "source": [
    "// TelaVendas <= assim "
   ]
  },
  {
   "cell_type": "markdown",
   "metadata": {},
   "source": [
    "Importação"
   ]
  },
  {
   "cell_type": "markdown",
   "metadata": {},
   "source": [
    "- Export default, posso importar com qualquer nome e sem chaves\n",
    "\n",
    "        import App from './App.jsx'\n",
    "        import Aplicativo from './App.jsx'\n",
    "\n",
    "- Export 'sem default', só posso importar entre chaves e com o nome exportado\n",
    "\n",
    "        import { StrictMode } from 'react'\n",
    "        import { createRoot } from 'react-dom/client'\n",
    "        import './index.css'\n"
   ]
  },
  {
   "cell_type": "markdown",
   "metadata": {},
   "source": [
    "### Nomeação de Classes em CSS\n",
    "\n",
    "Metodologia Bem \n",
    "\n",
    "- Blocks\n",
    "- Elements\n",
    "- Modifiers\n",
    "\n",
    "- bloco => modificar bloco\n",
    "- bloco__elemento => modificar elemento dentro de um bloco\n",
    "- bloco__elemento--modificadores => modificar valor expecifico"
   ]
  }
 ],
 "metadata": {
  "language_info": {
   "name": "python"
  }
 },
 "nbformat": 4,
 "nbformat_minor": 2
}
